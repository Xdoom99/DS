**Mount Google Drive & Import Libraries**
!pip install pandas matplotlib seaborn

import pandas as pd
import matplotlib.pyplot as plt
import seaborn as sns

from google.colab import files
import io

uploaded = files.upload()

historical_data = pd.read_csv(io.BytesIO(uploaded['historical_data.csv']))
fear_greed_index = pd.read_csv(io.BytesIO(uploaded['fear_greed_index.csv']))

display(historical_data.head())
display(fear_greed_index.head())

print("=== Historical Trader Data ===")
historical_data.info()
print("\n=== Fear & Greed Index Data ===")
fear_greed_index.info()

# Cell 4
historical_data['Timestamp IST'] = pd.to_datetime(historical_data['Timestamp IST'], format="%d-%m-%Y %H:%M")
historical_data['date'] = historical_data['Timestamp IST'].dt.date
fear_greed_index['date'] = pd.to_datetime(fear_greed_index['date']).dt.date
display(historical_data[['Timestamp IST', 'date']].head())
display(fear_greed_index[['date']].head())

# Cell 5
merged_df = pd.merge(historical_data, fear_greed_index, on='date', how='inner')
print("Merged dataset shape:", merged_df.shape)
display(merged_df.head())

# Cell 6
sentiment_perf = merged_df.groupby('classification').agg(
    avg_pnl=('Closed PnL', 'mean'),
    median_pnl=('Closed PnL', 'median'),
    total_trades=('Closed PnL', 'count'),
    win_rate=('Closed PnL', lambda x: (x > 0).mean() * 100)
).reset_index()
display(sentiment_perf)

# Cell 7
import seaborn as sns
import matplotlib.pyplot as plt
plt.figure(figsize=(10,6))
sns.barplot(data=sentiment_perf, x='classification', y='avg_pnl', palette='coolwarm')
plt.title("Average PnL by Market Sentiment")
plt.xticks(rotation=45)
plt.ylabel("Average Closed PnL")
plt.show()

# Cell 8
plt.figure(figsize=(10,6))
sns.scatterplot(data=merged_df, x='value', y='Closed PnL', alpha=0.3)
plt.title("Sentiment Value vs Closed PnL")
plt.xlabel("Fear-Greed Index Value")
plt.ylabel("Closed PnL")
plt.show()

# Cell 9
merged_df.to_csv("/content/merged_trader_sentiment.csv", index=False)

# Cell 10
perf_by_side = merged_df.groupby(['classification', 'Side']).agg(
    avg_pnl=('Closed PnL', 'mean'),
    total_trades=('Closed PnL', 'count'),
    win_rate=('Closed PnL', lambda x: (x > 0).mean() * 100)
).reset_index()
display(perf_by_side)

perf_by_side = merged_df.groupby(['classification', 'Side']).agg(
    avg_pnl=('Closed PnL', 'mean'),
    median_pnl=('Closed PnL', 'median'),
    total_trades=('Closed PnL', 'count'),
    win_rate=('Closed PnL', lambda x: (x > 0).mean() * 100)
).reset_index()

plt.figure(figsize=(10,6))
sns.barplot(data=perf_by_side, x='classification', y='avg_pnl', hue='Side', palette='Set2')
plt.title("Long vs Short: Average PnL by Market Sentiment")
plt.xticks(rotation=45)
plt.ylabel("Average Closed PnL")
plt.show()

if 'Leverage' in merged_df.columns:
    plt.figure(figsize=(10,6))
    sns.boxplot(data=merged_df, x='classification', y='Leverage')
    plt.title("Leverage Distribution by Market Sentiment")
    plt.xticks(rotation=45)
    plt.show()
else:
    print("No 'Leverage' column found in dataset.")

plt.figure(figsize=(10,6))
sns.violinplot(data=merged_df, x='classification', y='Closed PnL', palette='coolwarm', cut=0)
plt.title("PnL Distribution by Market Sentiment")
plt.xticks(rotation=45)
plt.ylabel("Closed PnL")
plt.ylim(-500, 500)
plt.show()

numeric_cols = merged_df.select_dtypes(include='number')
plt.figure(figsize=(10,6))
sns.heatmap(numeric_cols.corr(), annot=True, cmap='coolwarm', fmt=".2f")
plt.title("Correlation Heatmap")
plt.show()

insights = []

best_sentiment = sentiment_perf.loc[sentiment_perf['avg_pnl'].idxmax(), 'classification']
worst_sentiment = sentiment_perf.loc[sentiment_perf['avg_pnl'].idxmin(), 'classification']

insights.append(f"Highest average PnL occurs during '{best_sentiment}' sentiment.")
insights.append(f"Lowest average PnL occurs during '{worst_sentiment}' sentiment.")

long_win = perf_by_side[(perf_by_side['Side'] == 'BUY')].sort_values('win_rate', ascending=False).iloc[0]
short_win = perf_by_side[(perf_by_side['Side'] == 'SELL')].sort_values('win_rate', ascending=False).iloc[0]

insights.append(f"Best long performance is in '{long_win['classification']}' sentiment with win rate {long_win['win_rate']:.2f}%.")
insights.append(f"Best short performance is in '{short_win['classification']}' sentiment with win rate {short_win['win_rate']:.2f}%.")

pd.DataFrame({"Key Insights": insights})

from IPython.display import Markdown

report = """
# 📊 Trader Performance vs Bitcoin Market Sentiment – Analysis Report

## 1. Objective
Explore how trader performance (PnL, win rate, strategy) is influenced by Bitcoin market sentiment (Fear vs Greed).

## 2. Data Sources
- **Historical Trader Data** – 211k trades from Hyperliquid with price, size, PnL, direction, etc.
- **Fear & Greed Index** – 2.6k daily values from Alternative.me showing market sentiment classification.

## 3. Methodology
1. Cleaned and standardized timestamps to `date` format.
2. Merged trader dataset with daily sentiment classifications.
3. Aggregated performance metrics by sentiment.
4. Visualized:
   - Avg PnL by sentiment
   - Long vs short performance
   - Leverage distribution
   - PnL distributions
   - Correlation heatmap of numerical features

## 4. Key Findings
- **Highest Avg PnL:** `{best_sentiment}`
- **Lowest Avg PnL:** `{worst_sentiment}`
- **Best Long Win Rate:** `{long_class}` – {long_win_rate:.2f}%
- **Best Short Win Rate:** `{short_class}` – {short_win_rate:.2f}%
- Fear conditions sometimes offer higher short performance, while greed tends to benefit longs.
- High leverage is not consistently linked to higher returns; excessive leverage often correlates with higher PnL variance.

## 5. Recommendations
- Consider favoring **long strategies in Greed** and **short strategies in Fear** conditions.
- Avoid excessive leverage in Extreme Greed to mitigate downside risk.
- Monitor sentiment index trends for potential reversals to capture profitable moves.

## 6. Next Steps
- Apply rolling sentiment averages to detect momentum shifts.
- Analyze per-account risk-adjusted returns (e.g., Sharpe ratio).
- Backtest strategies incorporating sentiment triggers.
"""

best_sentiment = sentiment_perf.loc[sentiment_perf['avg_pnl'].idxmax(), 'classification']
worst_sentiment = sentiment_perf.loc[sentiment_perf['avg_pnl'].idxmin(), 'classification']

long_win = perf_by_side[(perf_by_side['Side'] == 'BUY')].sort_values('win_rate', ascending=False).iloc[0]
short_win = perf_by_side[(perf_by_side['Side'] == 'SELL')].sort_values('win_rate', ascending=False).iloc[0]

long_class = long_win['classification']
short_class = short_win['classification']
long_win_rate = long_win['win_rate']
short_win_rate = short_win['win_rate']

display(Markdown(report.format(
    best_sentiment=best_sentiment,
    worst_sentiment=worst_sentiment,
    long_class=long_class,
    short_class=short_class,
    long_win_rate=long_win_rate,
    short_win_rate=short_win_rate
)))

pip freeze>requirements.txt
